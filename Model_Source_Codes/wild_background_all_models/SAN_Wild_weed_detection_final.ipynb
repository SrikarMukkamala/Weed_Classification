{
  "cells": [
    {
      "cell_type": "code",
      "execution_count": null,
      "metadata": {
        "id": "q643Ns6r7cL6"
      },
      "outputs": [],
      "source": [
        "from google.colab import drive\n",
        "drive.mount('/content/drive')"
      ]
    },
    {
      "cell_type": "code",
      "execution_count": null,
      "metadata": {
        "id": "IARiZMKo7fJb"
      },
      "outputs": [],
      "source": [
        "!pip install tensorflow\n",
        "!pip install keras\n",
        "!nvidia-smi"
      ]
    },
    {
      "cell_type": "code",
      "execution_count": null,
      "metadata": {
        "id": "4YTZMe137lsf"
      },
      "outputs": [],
      "source": [
        "import tensorflow as tf\n",
        "import matplotlib.pyplot as plt\n",
        "import cv2\n",
        "import os\n",
        "import random\n",
        "import numpy as np\n",
        "from tensorflow.keras.preprocessing.image import ImageDataGenerator\n",
        "from tensorflow.keras.preprocessing import image"
      ]
    },
    {
      "cell_type": "code",
      "execution_count": null,
      "metadata": {
        "id": "XGHhfZNl7pR1"
      },
      "outputs": [],
      "source": [
        "base_dir = r\"/content/drive/MyDrive/wild_millet/training\""
      ]
    },
    {
      "cell_type": "code",
      "execution_count": null,
      "metadata": {
        "colab": {
          "base_uri": "https://localhost:8080/"
        },
        "id": "EAy6CtKx70wO",
        "outputId": "f19405f9-ca64-4cdd-86e6-2bbe40d16a54"
      },
      "outputs": [
        {
          "name": "stdout",
          "output_type": "stream",
          "text": [
            "Found 518 images belonging to 4 classes.\n",
            "Found 56 images belonging to 4 classes.\n"
          ]
        }
      ],
      "source": [
        "IMAGE_SIZE=(224)\n",
        "BATCH_SIZE=64\n",
        "#preproceessing\n",
        "train_datagen=tf.keras.preprocessing.image.ImageDataGenerator(\n",
        "    rescale=1./255,\n",
        "    shear_range=0.2,\n",
        "    zoom_range=0.2,\n",
        "    horizontal_flip=True,\n",
        "    validation_split=0.1\n",
        ")\n",
        "test_datagen=tf.keras.preprocessing.image.ImageDataGenerator(\n",
        "    rescale=1./255,\n",
        "    validation_split=0.1\n",
        ")\n",
        "train_datagen=train_datagen.flow_from_directory(\n",
        "    base_dir,\n",
        "    target_size=(IMAGE_SIZE,IMAGE_SIZE),\n",
        "    batch_size=BATCH_SIZE,\n",
        "    class_mode='sparse',\n",
        "    subset='training'\n",
        ")\n",
        "test_datagen=test_datagen.flow_from_directory(\n",
        "    base_dir,\n",
        "    target_size=(IMAGE_SIZE,IMAGE_SIZE),\n",
        "    batch_size=BATCH_SIZE,\n",
        "    class_mode='sparse',\n",
        "    subset='validation'\n",
        ")\n"
      ]
    },
    {
      "cell_type": "code",
      "execution_count": null,
      "metadata": {
        "colab": {
          "base_uri": "https://localhost:8080/"
        },
        "id": "O-L04Sje79W6",
        "outputId": "e1d65690-2ecd-4855-e664-1096696ff1a5"
      },
      "outputs": [
        {
          "data": {
            "text/plain": [
              "{'Weed - Sorghum': 0,\n",
              " 'pearl millet weeds_striga_wild': 1,\n",
              " 'pearl_millet': 2,\n",
              " 'sorgum': 3}"
            ]
          },
          "execution_count": 10,
          "metadata": {},
          "output_type": "execute_result"
        }
      ],
      "source": [
        "train_datagen.class_indices"
      ]
    },
    {
      "cell_type": "code",
      "execution_count": null,
      "metadata": {
        "colab": {
          "background_save": true
        },
        "id": "na9NE3UEAJyx"
      },
      "outputs": [],
      "source": [
        "#model ResNet152V2\n",
        "from keras.layers import Dense, activation, Flatten, BatchNormalization, Dropout\n",
        "from keras.models import Sequential\n",
        "from tensorflow.keras.callbacks import EarlyStopping, ReduceLROnPlateau\n",
        "\n",
        "model = Sequential()\n",
        "pretrained_model= tf.keras.applications.resnet_v2.ResNet152V2(\n",
        "    include_top=False,\n",
        "    weights='imagenet',\n",
        "    input_shape=(224,224,3),\n",
        "    classes=4,)\n",
        "for layer in pretrained_model.layers:\n",
        "  layer.trainable=False\n",
        "model.add(pretrained_model)\n",
        "model.add(Dropout(0.3))\n",
        "model.add(Flatten())\n",
        "model.add(Dense(128,activation=\"relu\"))\n",
        "model.add(Dropout(0.3))\n",
        "model.add(Dense(4,activation=\"softmax\"))\n",
        "#compile model\n",
        "model.compile(\n",
        "    loss='sparse_categorical_crossentropy',\n",
        "    optimizer='adam',\n",
        "    metrics = ['accuracy']\n",
        ")\n",
        "#callbacks\n",
        "early_stopping = EarlyStopping(patience=5, restore_best_weights=True)\n",
        "lr_callback = ReduceLROnPlateau(monitor='val_loss', factor=0.1, patience=3, verbose=1)\n",
        "\n",
        "# Train the model with callbacks\n",
        "history = model.fit(\n",
        "    train_datagen,\n",
        "    batch_size=32,\n",
        "    epochs=20,\n",
        "    validation_data=test_datagen,\n",
        "    callbacks=[early_stoppping, lr_callback],\n",
        "    verbose=1\n",
        ")\n",
        "model.evaluate(train_datagen)\n",
        "model.evaluate(test_datagen)"
      ]
    },
    {
      "cell_type": "code",
      "execution_count": null,
      "metadata": {
        "colab": {
          "background_save": true
        },
        "id": "mtSrGd5GAN76"
      },
      "outputs": [],
      "source": [
        "#accuracy plot for resenet152V2\n",
        "from matplotlib import pyplot as plt\n",
        "plt.plot(history.history['accuracy'])\n",
        "plt.plot(history.history['val_accuracy'])\n",
        "plt.title('model accuracy')\n",
        "plt.ylabel('accuracy')\n",
        "plt.xlabel('epoch')\n",
        "plt.legend(['train', 'val'], loc='upper left')\n",
        "plt.show()"
      ]
    },
    {
      "cell_type": "code",
      "execution_count": null,
      "metadata": {
        "id": "Zazjh48-p7rc"
      },
      "outputs": [],
      "source": [
        "#model inceptionV3\n",
        "from keras.layers import Dense, activation, Flatten, BatchNormalization, Dropout\n",
        "from keras.models import Sequential\n",
        "from tensorflow.keras.callbacks import EarlyStopping, ReduceLROnPlateau\n",
        "\n",
        "model = Sequential()\n",
        "pretrained_model= tf.keras.applications.inception_v3.InceptionV3(\n",
        "    include_top=False,\n",
        "    weights='imagenet',\n",
        "    input_shape=(224,224,3),\n",
        "    classes=8,)\n",
        "for layer in pretrained_model.layers:\n",
        "  layer.trainable=False\n",
        "model.add(pretrained_model)\n",
        "model.add(Dropout(0.3))\n",
        "model.add(Flatten())\n",
        "model.add(Dense(128,activation=\"relu\"))\n",
        "model.add(Dropout(0.3))\n",
        "model.add(Dense(4,activation=\"softmax\"))\n",
        "#compile model\n",
        "model.compile(\n",
        "    loss='sparse_categorical_crossentropy',\n",
        "    optimizer='adam',\n",
        "    metrics = ['accuracy']\n",
        ")\n",
        "#callbacks\n",
        "early_stopping = EarlyStopping(patience=5, restore_best_weights=True)\n",
        "lr_callback = ReduceLROnPlateau(monitor='val_loss', factor=0.1, patience=3, verbose=1)\n",
        "\n",
        "# Train the model with callbacks\n",
        "history = model.fit(\n",
        "    train_datagen,\n",
        "    batch_size=32,\n",
        "    epochs=20,\n",
        "    validation_data=test_datagen,\n",
        "    callbacks=[early_stopping, lr_callback],\n",
        "    verbose=1\n",
        ")\n",
        "model.evaluate(train_datagen)\n",
        "model.evaluate(test_datagen)\n"
      ]
    },
    {
      "cell_type": "code",
      "source": [
        "#accuracy plot for inceptionV3\n",
        "from matplotlib import pyplot as plt\n",
        "plt.plot(history.history['accuracy'])\n",
        "plt.plot(history.history['val_accuracy'])\n",
        "plt.title('model accuracy')\n",
        "plt.ylabel('accuracy')\n",
        "plt.xlabel('epoch')\n",
        "plt.legend(['train', 'val'], loc='upper left')\n",
        "plt.show()"
      ],
      "metadata": {
        "id": "ifeornZvtnMj"
      },
      "execution_count": null,
      "outputs": []
    },
    {
      "cell_type": "code",
      "execution_count": null,
      "metadata": {
        "id": "d4dmaFots_ix"
      },
      "outputs": [],
      "source": [
        "#model mobilenet\n",
        "from keras.layers import Dense, activation, Flatten, BatchNormalization, Dropout\n",
        "from keras.models import Sequential\n",
        "from tensorflow.keras.callbacks import EarlyStopping, ReduceLROnPlateau\n",
        "\n",
        "model = Sequential()\n",
        "pretrained_model= tf.keras.applications.mobilenet.MobileNet(\n",
        "    include_top=False,\n",
        "    weights='imagenet',\n",
        "    input_shape=(224,224,3),\n",
        "    classes=4,)\n",
        "for layer in pretrained_model.layers:\n",
        "  layer.trainable=False\n",
        "model.add(pretrained_model)\n",
        "model.add(Dropout(0.3))\n",
        "model.add(Flatten())\n",
        "model.add(Dense(128,activation=\"relu\"))\n",
        "model.add(Dropout(0.3))\n",
        "model.add(Dense(4,activation=\"softmax\"))\n",
        "#compile model\n",
        "model.compile(\n",
        "    loss='sparse_categorical_crossentropy',\n",
        "    optimizer='adam',\n",
        "    metrics = ['accuracy']\n",
        ")\n",
        "#callbacks\n",
        "early_stopping = EarlyStopping(patience=5, restore_best_weights=True)\n",
        "lr_callback = ReduceLROnPlateau(monitor='val_loss', factor=0.1, patience=3, verbose=1)\n",
        "\n",
        "# Train the model with callbacks\n",
        "history = model.fit(\n",
        "    train_datagen,\n",
        "    batch_size=32,\n",
        "    epochs=20,\n",
        "    validation_data=test_datagen,\n",
        "    callbacks=[early_stopping, lr_callback],\n",
        "    verbose=1\n",
        ")\n",
        "model.evaluate(train_datagen)\n",
        "model.evaluate(test_datagen)"
      ]
    },
    {
      "cell_type": "code",
      "execution_count": null,
      "metadata": {
        "id": "4mB7X8hmtEI3"
      },
      "outputs": [],
      "source": [
        "#accuracy plot for mobilenet\n",
        "from matplotlib import pyplot as plt\n",
        "plt.plot(history.history['accuracy'])\n",
        "plt.plot(history.history['val_accuracy'])\n",
        "plt.title('model accuracy')\n",
        "plt.ylabel('accuracy')\n",
        "plt.xlabel('epoch')\n",
        "plt.legend(['train', 'val'], loc='upper left')\n",
        "plt.show()"
      ]
    },
    {
      "cell_type": "code",
      "execution_count": null,
      "metadata": {
        "id": "5M-xM3-1-Beo"
      },
      "outputs": [],
      "source": [
        "#model VGG19\n",
        "from keras.layers import Dense, activation, Flatten, BatchNormalization, Dropout\n",
        "from keras.models import Sequential\n",
        "from tensorflow.keras.callbacks import EarlyStopping, ReduceLROnPlateau\n",
        "\n",
        "model = Sequential()\n",
        "pretrained_model= tf.keras.applications.vgg19.VGG19(\n",
        "    include_top=False,\n",
        "    weights='imagenet',\n",
        "    input_shape=(224,224,3),\n",
        "    classes=4,)\n",
        "for layer in pretrained_model.layers:\n",
        "  layer.trainable=False\n",
        "model.add(pretrained_model)\n",
        "model.add(Dropout(0.3))\n",
        "model.add(Flatten())\n",
        "model.add(Dense(128,activation=\"relu\"))\n",
        "model.add(Dropout(0.3))\n",
        "model.add(Dense(4,activation=\"softmax\"))\n",
        "#compile model\n",
        "model.compile(\n",
        "    loss='sparse_categorical_crossentropy',\n",
        "    optimizer='adam',\n",
        "    metrics = ['accuracy']\n",
        ")\n",
        "#callbacks\n",
        "early_stopping = EarlyStopping(patience=5, restore_best_weights=True)\n",
        "lr_callback = ReduceLROnPlateau(monitor='val_loss', factor=0.1, patience=3, verbose=1)\n",
        "\n",
        "# Train the model with callbacks\n",
        "history = model.fit(\n",
        "    train_datagen,\n",
        "    batch_size=32,\n",
        "    epochs=20,\n",
        "    validation_data=test_datagen,\n",
        "    callbacks=[early_stopping, lr_callback],\n",
        "    verbose=1\n",
        ")\n",
        "model.evaluate(train_datagen)\n",
        "model.evaluate(test_datagen)"
      ]
    },
    {
      "cell_type": "code",
      "execution_count": null,
      "metadata": {
        "id": "rXJ3u9G6-5Hz"
      },
      "outputs": [],
      "source": [
        "#accuracy plot for vgg19\n",
        "from matplotlib import pyplot as plt\n",
        "plt.plot(history.history['accuracy'])\n",
        "plt.plot(history.history['val_accuracy'])\n",
        "plt.title('model accuracy')\n",
        "plt.ylabel('accuracy')\n",
        "plt.xlabel('epoch')\n",
        "plt.legend(['train', 'val'], loc='upper left')\n",
        "plt.show()"
      ]
    }
  ],
  "metadata": {
    "accelerator": "GPU",
    "colab": {
      "provenance": []
    },
    "kernelspec": {
      "display_name": "Python 3",
      "name": "python3"
    },
    "language_info": {
      "name": "python"
    }
  },
  "nbformat": 4,
  "nbformat_minor": 0
}